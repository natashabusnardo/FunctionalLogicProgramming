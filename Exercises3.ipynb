{
  "nbformat": 4,
  "nbformat_minor": 0,
  "metadata": {
    "kernelspec": {
      "display_name": "Python 3",
      "language": "python",
      "name": "python3"
    },
    "language_info": {
      "codemirror_mode": {
        "name": "ipython",
        "version": 3
      },
      "file_extension": ".py",
      "mimetype": "text/x-python",
      "name": "python",
      "nbconvert_exporter": "python",
      "pygments_lexer": "ipython3",
      "version": "3.7.1"
    },
    "colab": {
      "name": "Exercises2.ipynb",
      "provenance": [],
      "collapsed_sections": []
    }
  },
  "cells": [
    {
      "cell_type": "markdown",
      "metadata": {
        "id": "QbTjfVC5dLSN"
      },
      "source": [
        "## Nome: ✨ Natasha Busnardo ✨"
      ]
    },
    {
      "cell_type": "markdown",
      "metadata": {
        "id": "7lgUi7mNI3wG"
      },
      "source": [
        "##Exercícios Listas"
      ]
    },
    {
      "cell_type": "code",
      "metadata": {
        "colab": {
          "base_uri": "https://localhost:8080/",
          "height": 35
        },
        "id": "uGArRhhiI1-r",
        "outputId": "b3635d69-c109-4f4e-b854-165ae64e1a7e"
      },
      "source": [
        "#1 - Retornar o segundo item da lista frutas = [maçã, morango, uva].\n",
        "\n",
        "def secondItem():\n",
        "  listaFrutas = [\"maçã\", \"morango\", \"uva\"]\n",
        "  return listaFrutas[1]\n",
        "\n",
        "secondItem()"
      ],
      "execution_count": 11,
      "outputs": [
        {
          "output_type": "execute_result",
          "data": {
            "application/vnd.google.colaboratory.intrinsic+json": {
              "type": "string"
            },
            "text/plain": [
              "'morango'"
            ]
          },
          "metadata": {
            "tags": []
          },
          "execution_count": 11
        }
      ]
    },
    {
      "cell_type": "code",
      "metadata": {
        "colab": {
          "base_uri": "https://localhost:8080/"
        },
        "id": "-5HcaqD2I1-x",
        "outputId": "a96749e3-a956-4e8e-c92f-b4b70ae7c9e8"
      },
      "source": [
        "#2 - Mude o valor de “maça” para “laranja” na lista do exercício 1.\n",
        "\n",
        "def alterItem():\n",
        "  listaFrutas = [\"maçã\", \"morango\", \"uva\"]\n",
        "  listaFrutas[0] = \"laranja\"\n",
        "  return listaFrutas\n",
        "\n",
        "alterItem()"
      ],
      "execution_count": 18,
      "outputs": [
        {
          "output_type": "execute_result",
          "data": {
            "text/plain": [
              "['laranja', 'morango', 'uva']"
            ]
          },
          "metadata": {
            "tags": []
          },
          "execution_count": 18
        }
      ]
    },
    {
      "cell_type": "code",
      "metadata": {
        "colab": {
          "base_uri": "https://localhost:8080/"
        },
        "id": "3qjY2HI8I1-x",
        "outputId": "13bbeb4a-3683-4096-f6b0-4ef057e839e6"
      },
      "source": [
        "#3 - Remova morango da lista do exercício 1.\n",
        "\n",
        "def removeItem(): \n",
        "  listaFrutas = [\"maçã\", \"morango\", \"uva\"]\n",
        "  del listaFrutas[1] \n",
        "  return listaFrutas\n",
        "\n",
        "removeItem()"
      ],
      "execution_count": 20,
      "outputs": [
        {
          "output_type": "execute_result",
          "data": {
            "text/plain": [
              "['maçã', 'uva']"
            ]
          },
          "metadata": {
            "tags": []
          },
          "execution_count": 20
        }
      ]
    },
    {
      "cell_type": "code",
      "metadata": {
        "colab": {
          "base_uri": "https://localhost:8080/"
        },
        "id": "LGC5AyobI1-y",
        "outputId": "442faf46-b732-49e9-8b2c-cba089beefb0"
      },
      "source": [
        "#4 - Mostrar somente os números positivos de uma lista.\n",
        "\n",
        "def positive(list): \n",
        "  newList = []\n",
        "  for i in list:\n",
        "    if i > 0 :\n",
        "     newList.append(i)\n",
        "  return newList\n",
        "\n",
        "numberList = [-10, 3, 9, 4, -8, -9, 10 ] \n",
        "positive(numberList)"
      ],
      "execution_count": 41,
      "outputs": [
        {
          "output_type": "execute_result",
          "data": {
            "text/plain": [
              "[3, 9, 4, 10]"
            ]
          },
          "metadata": {
            "tags": []
          },
          "execution_count": 41
        }
      ]
    },
    {
      "cell_type": "code",
      "metadata": {
        "id": "VqayCOLzXlpM"
      },
      "source": [
        "#4 - Fazer a multiplicação entre elementos de duas listas, somente se a multiplicação \n",
        "#for maior que 40.\n",
        "\n",
        "def times(list1, list2):\n",
        "  newList = []\n",
        "\n",
        "  for i in list1: \n",
        "    for j in list2: \n",
        "      if ((i * j) > 40) : \n",
        "        newList.append((i*j))\n",
        "        \n",
        "  return newList\n",
        "\n",
        "listOne = [8, 9, -1, 6, 3, -5, 7, 5, 5, 2] \n",
        "listTwo = [5, 1, 6, 5, 12, 4, 13, 8, 18, 10]\n",
        "\n",
        "times(listOne, listTwo)\n",
        "\n"
      ],
      "execution_count": null,
      "outputs": []
    },
    {
      "cell_type": "code",
      "metadata": {
        "colab": {
          "base_uri": "https://localhost:8080/"
        },
        "id": "3bYe1Q9MYt0b",
        "outputId": "c9bd5dd6-a841-4537-9de7-3a8a0721437e"
      },
      "source": [
        "#6 - Mostrar os pares de uma lista somente se os números estiverem entre 10 e 50\n",
        "def intervalo(list):\n",
        "   newList = []\n",
        "   for i in list:\n",
        "     if (i >= 10) and (i <= 50) and (i % 2 == 0):\n",
        "      newList.append(i)\n",
        "\n",
        "   return newList \n",
        "\n",
        "lista = [8, 9, -1, 6, 3, -5, 7, 5, 5, 2, 12, 22, 15] \n",
        "\n",
        "intervalo(lista)\n",
        "\n",
        "  "
      ],
      "execution_count": 59,
      "outputs": [
        {
          "output_type": "execute_result",
          "data": {
            "text/plain": [
              "[12, 22]"
            ]
          },
          "metadata": {
            "tags": []
          },
          "execution_count": 59
        }
      ]
    },
    {
      "cell_type": "code",
      "metadata": {
        "colab": {
          "base_uri": "https://localhost:8080/"
        },
        "id": "18EmkZ5eakOc",
        "outputId": "00180410-b4d2-4eb5-ae66-8c19d74dd17f"
      },
      "source": [
        "#7 - Escreva uma função insere que receba um elemento e uma lista e insere o elemento \n",
        "#se e somente se ele ainda não pertence à lista.\n",
        "\n",
        "def insere(number):\n",
        "  number = int(number)\n",
        "  if (number not in lista):\n",
        "    lista.append(number) \n",
        "    \n",
        "  return lista\n",
        "\n",
        "lista = [8, 9, -1, 6, 3, 15] \n",
        "number = input('Informe o número: ')\n",
        "\n",
        "insere(number)"
      ],
      "execution_count": 85,
      "outputs": [
        {
          "output_type": "stream",
          "text": [
            "Informe o número: 8\n"
          ],
          "name": "stdout"
        },
        {
          "output_type": "execute_result",
          "data": {
            "text/plain": [
              "[8, 9, -1, 6, 3, 15]"
            ]
          },
          "metadata": {
            "tags": []
          },
          "execution_count": 85
        }
      ]
    },
    {
      "cell_type": "code",
      "metadata": {
        "colab": {
          "base_uri": "https://localhost:8080/"
        },
        "id": "B6Zfjm6ubxFL",
        "outputId": "65143e8c-7f46-40ed-ef01-85e0725d813d"
      },
      "source": [
        "#8 - Defina uma função que dada uma lista de inteiros, retorna uma nova lista contendo os\n",
        "#elementos de valor superior a um número n qualquer. Exemplo:\n",
        "\n",
        "def newList(number):\n",
        "  newList = []\n",
        "  number = int(number)\n",
        "  \n",
        "  for i in lista: \n",
        "    if(i > number):\n",
        "      newList.append(i)\n",
        "      \n",
        "  return newList\n",
        "\n",
        "lista = [8, 9, -1, 6, 3, 15] \n",
        "number = input('Informe o número')\n",
        "newList(number)\n",
        "\n"
      ],
      "execution_count": 91,
      "outputs": [
        {
          "output_type": "stream",
          "text": [
            "Informe o número6\n"
          ],
          "name": "stdout"
        },
        {
          "output_type": "execute_result",
          "data": {
            "text/plain": [
              "[8, 9, 15]"
            ]
          },
          "metadata": {
            "tags": []
          },
          "execution_count": 91
        }
      ]
    },
    {
      "cell_type": "code",
      "metadata": {
        "colab": {
          "base_uri": "https://localhost:8080/"
        },
        "id": "xoXPod2z2iGT",
        "outputId": "05e27349-b70e-4e3d-fadb-d601da37bf7b"
      },
      "source": [
        "#9 - Defina uma função que retorna todos os números que são primos de um intervalo.\n",
        "\n",
        "def primosIntervalo(number1, number2):\n",
        "  newList = []\n",
        "  number1 = int(number1)\n",
        "  number2 = int(number2)\n",
        "\n",
        "  for i in range(number1, number2):\n",
        "    h = 0\n",
        "    for j in range(2, i):\n",
        "      if (j % i == 0):\n",
        "        newList.append(i)\n",
        "\n",
        "  return newList\n",
        "\n",
        "number1 = input('Informe o primeiro número: ')\n",
        "number2 = input('Informe o segundo número: ')\n",
        "primosIntervalo(number1, number2)"
      ],
      "execution_count": 94,
      "outputs": [
        {
          "output_type": "stream",
          "text": [
            "Informe o primeiro número: 1\n",
            "Informe o segundo número: 15\n"
          ],
          "name": "stdout"
        },
        {
          "output_type": "execute_result",
          "data": {
            "text/plain": [
              "[2, 4, 6, 7, 8, 9, 10, 11, 12, 13, 14]"
            ]
          },
          "metadata": {
            "tags": []
          },
          "execution_count": 94
        }
      ]
    }
  ]
}