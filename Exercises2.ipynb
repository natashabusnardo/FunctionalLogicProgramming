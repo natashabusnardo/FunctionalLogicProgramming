{
  "nbformat": 4,
  "nbformat_minor": 0,
  "metadata": {
    "kernelspec": {
      "display_name": "Python 3",
      "language": "python",
      "name": "python3"
    },
    "language_info": {
      "codemirror_mode": {
        "name": "ipython",
        "version": 3
      },
      "file_extension": ".py",
      "mimetype": "text/x-python",
      "name": "python",
      "nbconvert_exporter": "python",
      "pygments_lexer": "ipython3",
      "version": "3.7.1"
    },
    "colab": {
      "name": "Exercises2.ipynb",
      "provenance": [],
      "collapsed_sections": []
    }
  },
  "cells": [
    {
      "cell_type": "markdown",
      "metadata": {
        "id": "QbTjfVC5dLSN"
      },
      "source": [
        "## Nome: ✨ Natasha Busnardo ✨"
      ]
    },
    {
      "cell_type": "markdown",
      "metadata": {
        "id": "7lgUi7mNI3wG"
      },
      "source": [
        "##Exercícios"
      ]
    },
    {
      "cell_type": "code",
      "metadata": {
        "colab": {
          "base_uri": "https://localhost:8080/"
        },
        "id": "uGArRhhiI1-r",
        "outputId": "2047c04f-7946-402d-9127-4648613eb9a2"
      },
      "source": [
        "#1 - Receber um número e indicar se o número digitado está compreendido entre 10 e 80.\n",
        "def intervalo(x):\n",
        "  if x >='10' and x <= '80':\n",
        "    return(\"Está no intervalo\")\n",
        "  else:\n",
        "    return(\"Está fora do intervalo\")\n",
        "\n",
        "numero = input('Infome um número: ')\n",
        "intervalo(numero)"
      ],
      "execution_count": null,
      "outputs": [
        {
          "output_type": "stream",
          "text": [
            "Infome um número: 0\n",
            "Está fora do intervalo\n"
          ],
          "name": "stdout"
        }
      ]
    },
    {
      "cell_type": "code",
      "metadata": {
        "colab": {
          "base_uri": "https://localhost:8080/",
          "height": 52
        },
        "id": "-5HcaqD2I1-x",
        "outputId": "cb41df8e-ab1a-4d0f-a90b-32dacec6d035"
      },
      "source": [
        "#2 - A confederação brasileira de natação irá promover eliminatórias para o próximo\n",
        "#mundial. Fazer uma função que receba a idade do nadador e mostrar a sua categoria\n",
        "#segundo a tabela a seguir:\n",
        "\n",
        "#Categoria Idade\n",
        "#Infantil A 5 – 7 anos\n",
        "#Infantil B 8 – 10 anos\n",
        "#Juvenil A 11 – 13 anos\n",
        "#Juvenil B 14 – 17 anos\n",
        "#Sênior > 18 anos\n",
        "\n",
        "def categoria(x):\n",
        "  if x >= '5' and x <= '7':\n",
        "    return(\"Infantil A\")\n",
        "  elif x >= '8' and x <= '10':\n",
        "    return(\"Infantil B\")\n",
        "  elif x >= '11' and x <= '13':\n",
        "    return(\"Juvenil A\")\n",
        "  elif x >= '14' and x <= '17':\n",
        "    return(\"Juvenil B\")\n",
        "  elif x >= '18':\n",
        "    return(\"Sênior\")\n",
        "  else:\n",
        "    return(\"Nessa idade não há categorias disponíveis.\")\n",
        "\n",
        "idade = input('Informe a idade: ')\n",
        "categoria(idade)"
      ],
      "execution_count": null,
      "outputs": [
        {
          "output_type": "stream",
          "text": [
            "Informe a idade: 5\n"
          ],
          "name": "stdout"
        },
        {
          "output_type": "execute_result",
          "data": {
            "application/vnd.google.colaboratory.intrinsic+json": {
              "type": "string"
            },
            "text/plain": [
              "'Infantil A'"
            ]
          },
          "metadata": {
            "tags": []
          },
          "execution_count": 35
        }
      ]
    },
    {
      "cell_type": "code",
      "metadata": {
        "colab": {
          "base_uri": "https://localhost:8080/"
        },
        "id": "3qjY2HI8I1-x",
        "outputId": "13e35e71-a5e3-4765-de63-848703c3b35c"
      },
      "source": [
        "#3 - Segundo uma tabela médica, o peso ideal está relacionado com a altura e o \n",
        "#sexo. Fazer uma função que receba a altura e o sexo de uma pessoa e retorne seu \n",
        "#peso ideal, utilizando as seguintes fórmulas:\n",
        "#Para homens: (72.7 * H) - 58\n",
        "#Para mulheres: (62.1 * H) - 44.7\n",
        "\n",
        "def pesoIdeal(altura, sexo): \n",
        "  if sexo == 'feminino':\n",
        "    return ((62.1 * altura) - 44.7)\n",
        "  elif sexo == 'masculino':\n",
        "    return ((72.7 * altura) - 58)\n",
        "\n",
        "altura = float(input('Informe a altura: '))\n",
        "sexo = input('Informe o sexo: ')\n",
        "\n",
        "print ('Peso ideal: %.2f' %pesoIdeal(altura, sexo))"
      ],
      "execution_count": null,
      "outputs": [
        {
          "output_type": "stream",
          "text": [
            "Informe a altura: 1.73\n",
            "Informe o sexo: masculino\n",
            "Peso ideal: 67.77\n"
          ],
          "name": "stdout"
        }
      ]
    },
    {
      "cell_type": "code",
      "metadata": {
        "colab": {
          "base_uri": "https://localhost:8080/",
          "height": 52
        },
        "id": "LGC5AyobI1-y",
        "outputId": "3fc145c0-d77d-4f54-f11d-aeebd014f15d"
      },
      "source": [
        "#4 - Receber um número inteiro entre 1 e 12 e mostrar o mês correspondente. Caso \n",
        "#o usuário digite um número fora desse intervalo, deverá retornar uma mensagem\n",
        "#informando que não existe mês com este número.\n",
        "\n",
        "def mesInt(mes):\n",
        "  if mes < 1 or mes > 12 :\n",
        "     return('Não existe mês com este número')\n",
        "  elif mes == 1:\n",
        "    return('Janeiro')\n",
        "  elif mes == 2:\n",
        "    return('Fevereiro')\n",
        "  elif mes == 3:\n",
        "    return('Março')\n",
        "  elif mes == 4:\n",
        "    return('Abril')\n",
        "  elif mes == 5:\n",
        "    return('Maio')\n",
        "  elif mes == 6:\n",
        "    return('Junho')\n",
        "  elif mes == 7:\n",
        "   return('Julho')\n",
        "  elif mes == 8:\n",
        "   return('Agosto')\n",
        "  elif mes == 9:\n",
        "   return('Setembro')\n",
        "  elif mes == 10:\n",
        "   return('Outubro')\n",
        "  elif mes == 11:\n",
        "   return('Novembro')\n",
        "  else:\n",
        "   return('Dezembro')\n",
        "\n",
        "mes = int(input('Informe um número: '))\n",
        "mesInt(mes)"
      ],
      "execution_count": null,
      "outputs": [
        {
          "output_type": "stream",
          "text": [
            "Informe um número13\n"
          ],
          "name": "stdout"
        },
        {
          "output_type": "execute_result",
          "data": {
            "application/vnd.google.colaboratory.intrinsic+json": {
              "type": "string"
            },
            "text/plain": [
              "'Não existe mês com este número'"
            ]
          },
          "metadata": {
            "tags": []
          },
          "execution_count": 55
        }
      ]
    },
    {
      "cell_type": "code",
      "metadata": {
        "colab": {
          "base_uri": "https://localhost:8080/"
        },
        "id": "VqayCOLzXlpM",
        "outputId": "f48f075b-92d8-4cce-8299-26d5c09870c2"
      },
      "source": [
        "#Receber um número e retorna a raiz quadrada do número caso ele seja positivo e \n",
        "#o quadrado caso ele seja negativo\n",
        "\n",
        "def operacao(numero): \n",
        "  import math\n",
        "  if numero > 0:\n",
        "    return(math.sqrt(numero))\n",
        "  else:\n",
        "    return(numero*numero)\n",
        "\n",
        "numero = int(input('Informe um número'))\n",
        "print('%.2f'%operacao(numero))"
      ],
      "execution_count": null,
      "outputs": [
        {
          "output_type": "stream",
          "text": [
            "Informe um número-1\n",
            "1.00\n"
          ],
          "name": "stdout"
        }
      ]
    },
    {
      "cell_type": "code",
      "metadata": {
        "colab": {
          "base_uri": "https://localhost:8080/",
          "height": 69
        },
        "id": "3bYe1Q9MYt0b",
        "outputId": "3e2f1f26-3b6c-4725-d0a1-4f2dc0f5897f"
      },
      "source": [
        "#Receber duas notas de um aluno e retornar a média e uma das mensagens: Aprovado,\n",
        "#Reprovado ou em Exame (a média é 7 para aprovação, menor que 3 para reprovação\n",
        "#e as demais Exame)\n",
        "def soma(nota1, nota2):\n",
        "  return nota1+nota2\n",
        "\n",
        "def media(nota1, nota2):\n",
        "  return soma(nota1, nota2)/2\n",
        "\n",
        "def mediaResultado(nota1, nota2):\n",
        "  if media(nota1, nota2) >= 7:\n",
        "    return('Aprovado.')\n",
        "  elif media(nota1, nota2) < 3:\n",
        "    return('Reprovado.')\n",
        "  else:\n",
        "    return('Exame.')\n",
        "\n",
        "nota1 = float(input('Informe a primeira nota'))\n",
        "nota2 = float(input('Informe a segunda nota'))\n",
        "\n",
        "mediaResultado(nota1,nota2)\n",
        "\n",
        "  "
      ],
      "execution_count": null,
      "outputs": [
        {
          "output_type": "stream",
          "text": [
            "Informe a primeira nota8\n",
            "Informe a segunda nota4\n"
          ],
          "name": "stdout"
        },
        {
          "output_type": "execute_result",
          "data": {
            "application/vnd.google.colaboratory.intrinsic+json": {
              "type": "string"
            },
            "text/plain": [
              "'Exame.'"
            ]
          },
          "metadata": {
            "tags": []
          },
          "execution_count": 60
        }
      ]
    },
    {
      "cell_type": "code",
      "metadata": {
        "colab": {
          "base_uri": "https://localhost:8080/",
          "height": 52
        },
        "id": "18EmkZ5eakOc",
        "outputId": "e47fbd28-dceb-44f3-fa48-d4ea38f00947"
      },
      "source": [
        "#Criar uma função que receba a idade de uma pessoa e retorne a sua classe eleitoral:\n",
        "#• Não-eleitor (abaixo de 16 anos)\n",
        "#• Eleitor obrigatório (entre 18 e 65 anos)\n",
        "#• Eleitor facultativo (entre 16 e 18 e maior de 65 anos)\n",
        "\n",
        "def classeEleitoral(idade):\n",
        "  if idade < '16':\n",
        "    return('Não eleitor.')\n",
        "  elif idade >='18' and idade <='65':\n",
        "    return('Eleitor obrigatório.')\n",
        "  else: \n",
        "    return('Eleitor facultativo.')\n",
        "\n",
        "idade = input('Informe a idade: ')\n",
        "\n",
        "classeEleitoral(idade)"
      ],
      "execution_count": null,
      "outputs": [
        {
          "output_type": "stream",
          "text": [
            "Informe a idade: 17\n"
          ],
          "name": "stdout"
        },
        {
          "output_type": "execute_result",
          "data": {
            "application/vnd.google.colaboratory.intrinsic+json": {
              "type": "string"
            },
            "text/plain": [
              "'Eleitor facultativo.'"
            ]
          },
          "metadata": {
            "tags": []
          },
          "execution_count": 63
        }
      ]
    },
    {
      "cell_type": "code",
      "metadata": {
        "id": "5HFezlqAbLWo"
      },
      "source": [
        ""
      ],
      "execution_count": null,
      "outputs": []
    },
    {
      "cell_type": "code",
      "metadata": {
        "colab": {
          "base_uri": "https://localhost:8080/"
        },
        "id": "B6Zfjm6ubxFL",
        "outputId": "682deb95-81af-49f8-aad5-6798b2cfea5a"
      },
      "source": [
        "#Um comerciante comprou um produto e quer vende-lo com um lucro de 45% se o\n",
        "#valor da compra for menor que R$ 30,00; caso contrário, o lucro será de 30%.\n",
        "#Receber um valor do produto e retornar o valor da venda.\n",
        "\n",
        "def valorVenda(valorCompra):\n",
        "  if valorCompra < 30: \n",
        "    return(valorCompra*1.45)\n",
        "  else:\n",
        "    return(valorCompra*1.3)\n",
        "\n",
        "valorCompra = float(input('Informe o valor da compra: '))\n",
        "print('O valor da venda é R$%.2f'%valorVenda(valorCompra))\n",
        "\n"
      ],
      "execution_count": null,
      "outputs": [
        {
          "output_type": "stream",
          "text": [
            "Informe o valor da compra: 25\n",
            "O valor da venda é R$36.25\n"
          ],
          "name": "stdout"
        }
      ]
    }
  ]
}